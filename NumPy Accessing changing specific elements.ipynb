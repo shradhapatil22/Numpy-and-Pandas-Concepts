{
 "cells": [
  {
   "cell_type": "code",
   "execution_count": 6,
   "id": "79d1038e",
   "metadata": {},
   "outputs": [],
   "source": [
    "import numpy as np"
   ]
  },
  {
   "cell_type": "code",
   "execution_count": 5,
   "id": "e5c755f6",
   "metadata": {},
   "outputs": [
    {
     "name": "stdout",
     "output_type": "stream",
     "text": [
      "[[1 2 3 4 5 6 7]\n",
      " [2 3 4 5 6 7 8]]\n"
     ]
    }
   ],
   "source": [
    "a=np.array([[1,2,3,4,5,6,7],[2,3,4,5,6,7,8]])\n",
    "print(a)"
   ]
  },
  {
   "cell_type": "code",
   "execution_count": 5,
   "id": "9be26907",
   "metadata": {},
   "outputs": [
    {
     "name": "stdout",
     "output_type": "stream",
     "text": [
      "7\n"
     ]
    }
   ],
   "source": [
    "# get a specific element\n",
    "print(a[1,5])"
   ]
  },
  {
   "cell_type": "code",
   "execution_count": 7,
   "id": "ac0c0118",
   "metadata": {},
   "outputs": [
    {
     "name": "stdout",
     "output_type": "stream",
     "text": [
      "[1 2 3 4 5 6 7]\n"
     ]
    }
   ],
   "source": [
    "# get a specific row\n",
    "print(a[0,:])"
   ]
  },
  {
   "cell_type": "code",
   "execution_count": 9,
   "id": "c163bbe9",
   "metadata": {},
   "outputs": [
    {
     "name": "stdout",
     "output_type": "stream",
     "text": [
      "[3 4]\n"
     ]
    }
   ],
   "source": [
    "# get a specific column\n",
    "print(a[:,2])"
   ]
  },
  {
   "cell_type": "code",
   "execution_count": 4,
   "id": "5fce840c",
   "metadata": {},
   "outputs": [
    {
     "name": "stdout",
     "output_type": "stream",
     "text": [
      "[2 5]\n"
     ]
    }
   ],
   "source": [
    "# [startIndex,EndIndex,stepsize]\n",
    "print(a[0,1:6:3])"
   ]
  },
  {
   "cell_type": "code",
   "execution_count": 8,
   "id": "d8b52aa2",
   "metadata": {},
   "outputs": [
    {
     "name": "stdout",
     "output_type": "stream",
     "text": [
      "[[1 2 3 4 5 6 7]\n",
      " [2 3 4 6 6 7 8]]\n"
     ]
    }
   ],
   "source": [
    "# editing the array elements\n",
    "a[1,3]=6\n",
    "print(a)"
   ]
  },
  {
   "cell_type": "code",
   "execution_count": 9,
   "id": "ca9a4976",
   "metadata": {},
   "outputs": [
    {
     "name": "stdout",
     "output_type": "stream",
     "text": [
      "[[1 2 3 6 5 6 7]\n",
      " [2 3 4 6 6 7 8]]\n"
     ]
    }
   ],
   "source": [
    "a[:,3]=6\n",
    "print(a)"
   ]
  },
  {
   "cell_type": "code",
   "execution_count": null,
   "id": "d710dd41",
   "metadata": {},
   "outputs": [],
   "source": []
  }
 ],
 "metadata": {
  "kernelspec": {
   "display_name": "Python 3 (ipykernel)",
   "language": "python",
   "name": "python3"
  },
  "language_info": {
   "codemirror_mode": {
    "name": "ipython",
    "version": 3
   },
   "file_extension": ".py",
   "mimetype": "text/x-python",
   "name": "python",
   "nbconvert_exporter": "python",
   "pygments_lexer": "ipython3",
   "version": "3.9.12"
  }
 },
 "nbformat": 4,
 "nbformat_minor": 5
}
